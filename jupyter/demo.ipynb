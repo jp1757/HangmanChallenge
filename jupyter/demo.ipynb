{
 "cells": [
  {
   "cell_type": "markdown",
   "id": "1213b545-5046-43e3-b3cc-202392f3704a",
   "metadata": {},
   "source": [
    "# Hangman Demo\n",
    "> Load the hangman library <BR>\n",
    "> Create a player; either Heuristic or LSTM <BR>\n",
    "> Play x amount of games using training data <BR>"
   ]
  },
  {
   "cell_type": "code",
   "execution_count": 1,
   "id": "a04860be-8578-4d10-b8bd-5fa345fc50ba",
   "metadata": {},
   "outputs": [],
   "source": [
    "import os\n",
    "import sys\n",
    "\n",
    "import pandas as pd\n",
    "import numpy as np\n",
    "\n",
    "# insert project directory to PATH\n",
    "sys.path.insert(0, os.path.abspath(os.path.join(os.path.abspath(''), \"..\")))\n",
    "\n",
    "import hangman.core\n",
    "import hangman.model\n",
    "import hangman.model.basic\n",
    "import hangman.model.ml\n",
    "import hangman.model.ml.utils\n",
    "from hangman.model.ml.config import TriLayer"
   ]
  },
  {
   "cell_type": "markdown",
   "id": "dae5c21a-839f-4d89-9808-f39ef536c7e8",
   "metadata": {},
   "source": [
    "<font color=\"Blue\"> Load training data </font>"
   ]
  },
  {
   "cell_type": "code",
   "execution_count": 2,
   "id": "4e941eea-abc2-425a-bf44-b341039a66e5",
   "metadata": {},
   "outputs": [
    {
     "data": {
      "text/plain": [
       "227300"
      ]
     },
     "execution_count": 2,
     "metadata": {},
     "output_type": "execute_result"
    }
   ],
   "source": [
    "words = hangman.core.dictionary.load()\n",
    "len(words)"
   ]
  },
  {
   "cell_type": "code",
   "execution_count": null,
   "id": "10b822c7-abe1-4a68-88b9-3beaeaf332d5",
   "metadata": {},
   "outputs": [],
   "source": []
  },
  {
   "cell_type": "markdown",
   "id": "e60ec286-59cd-4dc5-a0cc-e5148be1d5e0",
   "metadata": {},
   "source": [
    "<font color='Blue'>Boiler plate functions for running games</font>"
   ]
  },
  {
   "cell_type": "code",
   "execution_count": 3,
   "id": "99394f71-f180-4b26-b84c-3fc2c520e0f6",
   "metadata": {},
   "outputs": [],
   "source": [
    "def run(player, current_run, name, inc=100):\n",
    "    if current_run % inc == 0:\n",
    "        print(f\"Run {current_run} - [{name}]\")\n",
    "        \n",
    "    api = hangman.core.API(words)\n",
    "    game = hangman.core.Hangman(api=api, player=player)\n",
    "    return game.start_game(verbose=False)\n",
    "\n",
    "def loop(player, name, *, num_runs=1000, inc=50):\n",
    "\n",
    "    print(f\"Running player [{name}]\")\n",
    "    runs = [run(player, x, name, inc) for x in list(range(1, num_runs + 1))]\n",
    "    wins = [1 for x in runs if x.win]\n",
    "    win_rate = (sum(wins) / len(runs)) * 100\n",
    "\n",
    "    print(f\"Win Rate for [{name}], [{win_rate}]%\")\n",
    "    \n",
    "    return runs"
   ]
  },
  {
   "cell_type": "code",
   "execution_count": null,
   "id": "305bb3df-ab32-464d-8190-5dc87b985fe2",
   "metadata": {},
   "outputs": [],
   "source": []
  },
  {
   "cell_type": "markdown",
   "id": "a1bfcd78-9e6f-4172-8b48-d7d3253be661",
   "metadata": {},
   "source": [
    "<font color=\"Red\">Heuristic Player</font>"
   ]
  },
  {
   "cell_type": "code",
   "execution_count": 4,
   "id": "af4a1983-f543-497d-b4f8-34a9777950ad",
   "metadata": {},
   "outputs": [],
   "source": [
    "player_h = hangman.model.basic.Heuristic(words)"
   ]
  },
  {
   "cell_type": "code",
   "execution_count": null,
   "id": "ae7326b0-9855-4ed7-b7f1-fccdf44187d0",
   "metadata": {},
   "outputs": [],
   "source": []
  },
  {
   "cell_type": "markdown",
   "id": "329f3bc1-3fd1-40a9-b517-87b2a8969fc9",
   "metadata": {},
   "source": [
    "<font color=\"Green\">Heuristic Player</font>"
   ]
  },
  {
   "cell_type": "code",
   "execution_count": 5,
   "id": "755d1aa4-69df-45fe-8fff-15ceccbbfe73",
   "metadata": {},
   "outputs": [],
   "source": [
    "model = hangman.model.ml.LSTModel(\"load_model_weights\", config=TriLayer(), pad_sequence=False)\n",
    "player_lstm = hangman.model.ml.NNPlayer(words, model=model, verbose=False, heuristic_thershold=0.5)"
   ]
  },
  {
   "cell_type": "code",
   "execution_count": null,
   "id": "eb13214f-7bf9-4455-903d-264365cb31e4",
   "metadata": {},
   "outputs": [],
   "source": []
  },
  {
   "cell_type": "markdown",
   "id": "920cae14-2e43-4887-96bf-d56e5b7cefc0",
   "metadata": {},
   "source": [
    "<font color=\"Orange\">Run Games</font>"
   ]
  },
  {
   "cell_type": "code",
   "execution_count": 6,
   "id": "a1685eb4-77e8-486c-99db-c6c5f9276f47",
   "metadata": {},
   "outputs": [
    {
     "name": "stdout",
     "output_type": "stream",
     "text": [
      "Running player [heuristic]\n",
      "Run 5 - [heuristic]\n",
      "Run 10 - [heuristic]\n",
      "Run 15 - [heuristic]\n",
      "Run 20 - [heuristic]\n",
      "Win Rate for [heuristic], [90.0]%\n"
     ]
    }
   ],
   "source": [
    "heuristic_games = loop(player_h, \"heuristic\", num_runs=20, inc=5)"
   ]
  },
  {
   "cell_type": "code",
   "execution_count": null,
   "id": "a7974649-b818-4d1c-9a42-54a6a6fb3713",
   "metadata": {},
   "outputs": [],
   "source": []
  },
  {
   "cell_type": "code",
   "execution_count": 7,
   "id": "0f7a0190-b0e6-47e9-b60b-3d4d22772b38",
   "metadata": {},
   "outputs": [
    {
     "name": "stdout",
     "output_type": "stream",
     "text": [
      "Running player [LSTM]\n",
      "Run 5 - [LSTM]\n",
      "Run 10 - [LSTM]\n",
      "Run 15 - [LSTM]\n",
      "Run 20 - [LSTM]\n",
      "Win Rate for [LSTM], [90.0]%\n"
     ]
    }
   ],
   "source": [
    "lstm_games = loop(player_lstm, \"LSTM\", num_runs=20, inc=5)"
   ]
  },
  {
   "cell_type": "code",
   "execution_count": null,
   "id": "6b331794-98a6-44ad-aac2-5f29b7fdd769",
   "metadata": {},
   "outputs": [],
   "source": []
  }
 ],
 "metadata": {
  "kernelspec": {
   "display_name": "Python 3 (ipykernel)",
   "language": "python",
   "name": "python3"
  },
  "language_info": {
   "codemirror_mode": {
    "name": "ipython",
    "version": 3
   },
   "file_extension": ".py",
   "mimetype": "text/x-python",
   "name": "python",
   "nbconvert_exporter": "python",
   "pygments_lexer": "ipython3",
   "version": "3.10.9"
  }
 },
 "nbformat": 4,
 "nbformat_minor": 5
}
